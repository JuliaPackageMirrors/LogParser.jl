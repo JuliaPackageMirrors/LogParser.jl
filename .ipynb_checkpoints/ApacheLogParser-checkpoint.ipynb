{
 "metadata": {
  "language": "Julia",
  "name": "",
  "signature": "sha256:56be156b2c3ca1936e92f44ecba4963c20d9249d2090f4d0a0bb68ececc5e286"
 },
 "nbformat": 3,
 "nbformat_minor": 0,
 "worksheets": [
  {
   "cells": [
    {
     "cell_type": "code",
     "collapsed": false,
     "input": [
      "println(\"IP Address: \", m.captures[1])\n",
      "println(\"RFC 1413 Identity: \", m.captures[2])\n",
      "println(\"UserID from HTTP Authentication: \", m.captures[3])\n",
      "println(\"Request Time: \", m.captures[4])\n",
      "println(\"Requested Resource: \", m.captures[5])\n",
      "println(\"Status Code: \", m.captures[6])\n",
      "println(\"Byte Count: \", m.captures[7])\n",
      "println(\"Referrer: \", m.captures[8])\n",
      "println(\"User-Agent: \", m.captures[9])"
     ],
     "language": "python",
     "metadata": {},
     "outputs": [
      {
       "output_type": "stream",
       "stream": "stdout",
       "text": [
        "IP Address: 5"
       ]
      },
      {
       "output_type": "stream",
       "stream": "stdout",
       "text": [
        "4.164.5.4\n",
        "RFC 1413 Identity: -\n",
        "UserID from HTTP Authentication: -\n",
        "Request Time: [12/Aug/2014:06:05:53 -0600]\n",
        "Requested Resource: HEAD /julia-speed-vs-correctness/?utm_source=rss&utm_medium=rss&utm_campaign=julia-speed-vs-correctness&utm_medium=twitter&utm_source=twitterfeed HTTP/1.1\n",
        "Status Code: 200\n",
        "Byte Count: 305\n",
        "Referrer: -\n",
        "User-Agent: Apache-HttpClient/4.3 (java 1.5)\n"
       ]
      }
     ],
     "prompt_number": 4
    },
    {
     "cell_type": "heading",
     "level": 1,
     "metadata": {},
     "source": [
      "Build Package"
     ]
    },
    {
     "cell_type": "code",
     "collapsed": false,
     "input": [
      "Pkg.generate(\"LogParser\", \"MIT\")"
     ],
     "language": "python",
     "metadata": {},
     "outputs": [
      {
       "output_type": "stream",
       "stream": "stderr",
       "text": [
        "INFO: Initializing LogParser repo: /Users/randyzwitch/.julia/v0.4/LogParser\n"
       ]
      },
      {
       "output_type": "stream",
       "stream": "stderr",
       "text": [
        "INFO: Origin: git://github.com/randyzwitch/LogParser.jl.git\n"
       ]
      },
      {
       "output_type": "stream",
       "stream": "stderr",
       "text": [
        "INFO: Generating LICENSE.md\n"
       ]
      },
      {
       "output_type": "stream",
       "stream": "stderr",
       "text": [
        "INFO: Generating README.md\n",
        "INFO: Generating src/LogParser.jl\n",
        "INFO: Generating test/runtests.jl\n"
       ]
      },
      {
       "output_type": "stream",
       "stream": "stderr",
       "text": [
        "INFO: Generating .travis.yml\n",
        "INFO: Committing LogParser generated files\n"
       ]
      }
     ],
     "prompt_number": 6
    },
    {
     "cell_type": "code",
     "collapsed": false,
     "input": [
      "using LogParser"
     ],
     "language": "python",
     "metadata": {},
     "outputs": [],
     "prompt_number": 1
    },
    {
     "cell_type": "code",
     "collapsed": false,
     "input": [
      "testfile = readdlm(\"/Users/randyzwitch/Downloads/juliabloggers.com-Aug-2014\", '|');"
     ],
     "language": "python",
     "metadata": {},
     "outputs": [],
     "prompt_number": 2
    },
    {
     "cell_type": "code",
     "collapsed": false,
     "input": [
      "a = [apachecombined(x) for x in testfile]"
     ],
     "language": "python",
     "metadata": {},
     "outputs": [
      {
       "output_type": "stream",
       "stream": "stdout",
       "text": [
        "18"
       ]
      },
      {
       "output_type": "stream",
       "stream": "stdout",
       "text": [
        "4.155.202.222 - - [21/Aug/2014:00:36:07 -0600] \"GET /juliaopt-optimization-packages-for-julia/?utm_source=rss&utm_medium=rss&utm_campaign=juliaopt-optimization-packages-for-julia&utm_medium=twitter&utm_source=twitterfeed HTTP/1.1\" 200 6373 \"http://twitterrific.com/referrer\n",
        "2"
       ]
      },
      {
       "output_type": "stream",
       "stream": "stdout",
       "text": [
        "18.30.103.49 - - [24/Aug/2014:19:44:23 -0600] \"GET /robots.txt HTTP/1.1\" 200 336 \"-\" \"Sogou web spider/4.0(+http://www.sogou.com/docs/help/webmasters.htm\n",
        "218.30.103.49 - - [24/Aug/2014:19:44:40 -0600] \"GET / HTTP/1.1\" 200 6733 \"-\" \"Sogou web spider/4.0(+http://www.sogou.com/docs/help/webmasters.htm\n",
        "69.180.26.69 - - [24/Aug/2014:22:41:54 -0600] \"GET /tag/juliacon/ HTTP/1.1\" 200 6955 \"http://twitterrific.com/referrer\n"
       ]
      },
      {
       "metadata": {},
       "output_type": "pyout",
       "prompt_number": 3,
       "text": [
        "68659-element Array{Any,1}:\n",
        " ApacheLog(\"54.164.5.4\",\"-\",\"-\",\"[12/Aug/2014:06:05:53 -0600]\",\"HEAD /julia-speed-vs-correctness/?utm_source=rss&utm_medium=rss&utm_campaign=julia-speed-vs-correctness&utm_medium=twitter&utm_source=twitterfeed HTTP/1.1\",200,305,\"-\",\"Apache-HttpClient/4.3 (java 1.5)\",\"\")                                                \n",
        " ApacheLog(\"84.211.127.29\",\"-\",\"-\",\"[12/Aug/2014:06:06:21 -0600]\",\"GET /feed/ HTTP/1.1\",304,204,\"-\",\"RSS Bot/1.8 (Mac OS X Version 10.9.4 (Build 13E28))\",\"\")                                                                                                                                                                 \n",
        " ApacheLog(\"173.254.28.19\",\"-\",\"-\",\"[12/Aug/2014:06:06:28 -0600]\",\"GET /feed/ HTTP/1.1\",200,230926,\"-\",\"Fever/1.38 (Feed Parser; http://feedafever.com; Allow like Gecko)\",\"\")                                                                                                                                                \n",
        " ApacheLog(\"54.210.16.64\",\"-\",\"-\",\"[12/Aug/2014:06:07:20 -0600]\",\"HEAD /natural-language-processing-with-julia/?utm_source=rss&utm_medium=rss&utm_campaign=natural-language-processing-with-julia&utm_medium=twitter&utm_source=twitterfeed HTTP/1.1\",200,305,\"-\",\"Apache-HttpClient/4.3 (java 1.5)\",\"\")                      \n",
        " ApacheLog(\"198.58.103.114\",\"-\",\"-\",\"[12/Aug/2014:06:07:56 -0600]\",\"GET /feed/ HTTP/1.1\",304,166,\"-\",\"Superfeedr bot/2.0 http://superfeedr.com - Make your feeds realtime: get in touch!\",\"\")                                                                                                                                 \n",
        " ApacheLog(\"84.211.127.29\",\"-\",\"-\",\"[12/Aug/2014:06:08:03 -0600]\",\"GET /feed/ HTTP/1.1\",304,204,\"-\",\"RSS Bot/1.8 (Mac OS X Version 10.9.4 (Build 13E28))\",\"\")                                                                                                                                                                 \n",
        " ApacheLog(\"54.210.161.30\",\"-\",\"-\",\"[12/Aug/2014:06:08:29 -0600]\",\"HEAD /natural-language-processing-with-julia/?utm_source=rss&utm_medium=rss&utm_campaign=natural-language-processing-with-julia&utm_medium=twitter&utm_source=twitterfeed HTTP/1.1\",200,305,\"-\",\"Apache-HttpClient/4.3 (java 1.5)\",\"\")                     \n",
        " ApacheLog(\"54.164.5.4\",\"-\",\"-\",\"[12/Aug/2014:06:08:44 -0600]\",\"HEAD /natural-language-processing-with-julia/?utm_source=rss&utm_medium=rss&utm_campaign=natural-language-processing-with-julia&utm_medium=twitter&utm_source=twitterfeed HTTP/1.1\",200,305,\"-\",\"Apache-HttpClient/4.3 (java 1.5)\",\"\")                        \n",
        " ApacheLog(\"107.170.96.101\",\"-\",\"-\",\"[12/Aug/2014:06:08:52 -0600]\",\"GET /feed/ HTTP/1.1\",200,230926,\"-\",\"Feedbin - 4 subscribers\",\"\")                                                                                                                                                                                         \n",
        " ApacheLog(\"84.211.127.29\",\"-\",\"-\",\"[12/Aug/2014:06:10:03 -0600]\",\"GET /feed/ HTTP/1.1\",304,204,\"-\",\"RSS Bot/1.8 (Mac OS X Version 10.9.4 (Build 13E28))\",\"\")                                                                                                                                                                 \n",
        " ApacheLog(\"84.211.127.29\",\"-\",\"-\",\"[12/Aug/2014:06:12:03 -0600]\",\"GET /feed/ HTTP/1.1\",304,204,\"-\",\"RSS Bot/1.8 (Mac OS X Version 10.9.4 (Build 13E28))\",\"\")                                                                                                                                                                 \n",
        " ApacheLog(\"180.76.5.194\",\"-\",\"-\",\"[12/Aug/2014:06:13:20 -0600]\",\"GET /wp-content/plugins/yet-another-related-posts-plugin/style/related.css?ver=3.9.2 HTTP/1.1\",200,608,\"-\",\"Mozilla/5.0 (compatible; Baiduspider/2.0; +http://www.baidu.com/search/spider.html)\",\"\")                                                        \n",
        " ApacheLog(\"84.211.127.29\",\"-\",\"-\",\"[12/Aug/2014:06:14:03 -0600]\",\"GET /feed/ HTTP/1.1\",304,204,\"-\",\"RSS Bot/1.8 (Mac OS X Version 10.9.4 (Build 13E28))\",\"\")                                                                                                                                                                 \n",
        " \u22ee                                                                                                                                                                                                                                                                                                                            \n",
        " ApacheLog(\"84.211.127.29\",\"-\",\"-\",\"[26/Aug/2014:06:11:05 -0600]\",\"GET /feed/ HTTP/1.1\",304,204,\"-\",\"RSS Bot/1.8 (Mac OS X Version 10.9.4 (Build 13E28))\",\"\")                                                                                                                                                                 \n",
        " ApacheLog(\"94.23.251.171\",\"-\",\"-\",\"[26/Aug/2014:06:11:16 -0600]\",\"GET / HTTP/1.1\",301,282,\"-\",\"Mozilla/5.0 (compatible; WASALive-Bot ; http://blog.wasalive.com/wasalive-bots/)\",\"\")                                                                                                                                         \n",
        " ApacheLog(\"94.23.251.171\",\"-\",\"-\",\"[26/Aug/2014:06:11:17 -0600]\",\"GET / HTTP/1.1\",200,27169,\"-\",\"Mozilla/5.0 (compatible; WASALive-Bot ; http://blog.wasalive.com/wasalive-bots/)\",\"\")                                                                                                                                       \n",
        " ApacheLog(\"99.241.134.34\",\"-\",\"-\",\"[26/Aug/2014:06:11:53 -0600]\",\"HEAD /feed/ HTTP/1.1\",304,204,\"-\",\"Monotony/21 CFNetwork/673.4 Darwin/13.3.0 (x86_64) (MacBookAir5%2C2)\",\"\")                                                                                                                                               \n",
        " ApacheLog(\"198.199.87.229\",\"-\",\"-\",\"[26/Aug/2014:06:12:40 -0600]\",\"GET /feed/ HTTP/1.1\",304,166,\"-\",\"NewsBlur Feed Fetcher - 5 subscribers - http://www.newsblur.com/site/5626367/juliabloggerscom (Mozilla/5.0 (Macintosh; Intel Mac OS X 10_7_1) AppleWebKit/534.48.3 (KHTML, like Gecko) Version/5.1 Safari/534.48.3)\",\"\")\n",
        " ApacheLog(\"198.199.87.229\",\"-\",\"-\",\"[26/Aug/2014:06:12:41 -0600]\",\"GET / HTTP/1.1\",200,6676,\"-\",\"NewsBlur Page Fetcher - 5 subscribers - http://www.newsblur.com/site/5626367/juliabloggerscom (Mozilla/5.0 (Macintosh; Intel Mac OS X 10_7_1) AppleWebKit/534.48.3 (KHTML, like Gecko) Version/5.1 Safari/534.48.3)\",\"\")    \n",
        " ApacheLog(\"99.241.134.34\",\"-\",\"-\",\"[26/Aug/2014:06:12:54 -0600]\",\"HEAD /feed/ HTTP/1.1\",304,204,\"-\",\"Monotony/21 CFNetwork/673.4 Darwin/13.3.0 (x86_64) (MacBookAir5%2C2)\",\"\")                                                                                                                                               \n",
        " ApacheLog(\"84.211.127.29\",\"-\",\"-\",\"[26/Aug/2014:06:13:05 -0600]\",\"GET /feed/ HTTP/1.1\",304,204,\"-\",\"RSS Bot/1.8 (Mac OS X Version 10.9.4 (Build 13E28))\",\"\")                                                                                                                                                                 \n",
        " ApacheLog(\"99.241.134.34\",\"-\",\"-\",\"[26/Aug/2014:06:13:53 -0600]\",\"HEAD /feed/ HTTP/1.1\",304,204,\"-\",\"Monotony/21 CFNetwork/673.4 Darwin/13.3.0 (x86_64) (MacBookAir5%2C2)\",\"\")                                                                                                                                               \n",
        " ApacheLog(\"144.76.90.23\",\"-\",\"-\",\"[26/Aug/2014:06:14:20 -0600]\",\"GET /generative-art-with-julia/feed/ HTTP/1.1\",200,992,\"-\",\"Mozilla/5.0 (compatible; BazQux/2.4; +https://bazqux.com/fetcher)\",\"\")                                                                                                                          \n",
        " ApacheLog(\"99.241.134.34\",\"-\",\"-\",\"[26/Aug/2014:06:14:53 -0600]\",\"HEAD /feed/ HTTP/1.1\",304,204,\"-\",\"Monotony/21 CFNetwork/673.4 Darwin/13.3.0 (x86_64) (MacBookAir5%2C2)\",\"\")                                                                                                                                               \n",
        " ApacheLog(\"84.211.127.29\",\"-\",\"-\",\"[26/Aug/2014:06:15:05 -0600]\",\"GET /feed/ HTTP/1.1\",304,204,\"-\",\"RSS Bot/1.8 (Mac OS X Version 10.9.4 (Build 13E28))\",\"\")                                                                                                                                                                 "
       ]
      }
     ],
     "prompt_number": 3
    },
    {
     "cell_type": "code",
     "collapsed": false,
     "input": [
      "test = match(r\"AAA\", \"Q\")"
     ],
     "language": "python",
     "metadata": {},
     "outputs": [],
     "prompt_number": 8
    },
    {
     "cell_type": "code",
     "collapsed": false,
     "input": [
      "for value in a[1:10]\n",
      "    value.nonmatchstring != \"\"? println(value.nonmatchstring): pass\n",
      "end"
     ],
     "language": "python",
     "metadata": {},
     "outputs": [],
     "prompt_number": 11
    },
    {
     "cell_type": "code",
     "collapsed": false,
     "input": [
      "a = \"\"\"184.155.202.222 - - [21/Aug/2014:00:36:07 -0600] \"GET /juliaopt-optimization-packages-for-julia/?utm_source=rss&utm_medium=rss&utm_campaign=juliaopt-optimization-packages-for-julia&utm_medium=twitter&utm_source=twitterfeed HTTP/1.1\" 200 6373 \"http://twitterrific.com/referrer\"\"\"\n"
     ],
     "language": "python",
     "metadata": {},
     "outputs": [
      {
       "metadata": {},
       "output_type": "pyout",
       "prompt_number": 4,
       "text": [
        "\"184.155.202.222 - - [21/Aug/2014:00:36:07 -0600] \\\"GET /juliaopt-optimization-packages-for-julia/?utm_source=rss&utm_medium=rss&utm_campaign=juliaopt-optimization-packages-for-julia&utm_medium=twitter&utm_source=twitterfeed HTTP/1.1\\\" 200 6373 \\\"http://twitterrific.com/referrer\""
       ]
      }
     ],
     "prompt_number": 4
    },
    {
     "cell_type": "code",
     "collapsed": false,
     "input": [
      "     #r\"\"\"([\\d\\.]+)\\s([\\w.-]+)\\s([\\w.-]+)\\s(\\[.+\\])\\s\"([^\"]*)\"\\s(\\d{3})\\s(\\d+|-)\\s\"((?:[^\"]|\\\")+)\"\\s\"((?:[^\"]|\\\")+)\"$\"\"\"\n",
      "\n",
      "match(r\"\"\"([\\d\\.]+)\\s([\\w.-]+)\\s([\\w.-]+)\\s(\\[.+\\])\\s\"([^\"]*)\"\\s(\\d{3})\\s(\\d+|-)\\s\"((?:[^\"]|\\\")+)\"\"\", a)"
     ],
     "language": "python",
     "metadata": {},
     "outputs": [
      {
       "metadata": {},
       "output_type": "pyout",
       "prompt_number": 18,
       "text": [
        "RegexMatch(\"184.155.202.222 - - [21/Aug/2014:00:36:07 -0600] \\\"GET /juliaopt-optimization-packages-for-julia/?utm_source=rss&utm_medium=rss&utm_campaign=juliaopt-optimization-packages-for-julia&utm_medium=twitter&utm_source=twitterfeed HTTP/1.1\\\" 200 6373 \\\"http://twitterrific.com/referrer\", 1=\"184.155.202.222\", 2=\"-\", 3=\"-\", 4=\"[21/Aug/2014:00:36:07 -0600]\", 5=\"GET /juliaopt-optimization-packages-for-julia/?utm_source=rss&utm_medium=rss&utm_campaign=juliaopt-optimization-packages-for-julia&utm_medium=twitter&utm_source=twitterfeed HTTP/1.1\", 6=\"200\", 7=\"6373\", 8=\"http://twitterrific.com/referrer\")"
       ]
      }
     ],
     "prompt_number": 18
    },
    {
     "cell_type": "code",
     "collapsed": false,
     "input": [],
     "language": "python",
     "metadata": {},
     "outputs": []
    }
   ],
   "metadata": {}
  }
 ]
}