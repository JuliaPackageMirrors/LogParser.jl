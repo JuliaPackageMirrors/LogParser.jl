{
 "metadata": {
  "language": "Julia",
  "name": "",
  "signature": "sha256:5a41c99148f4f739f0b88a190fa605bd26fc1ea8625b51efdbb1ce5bf7f8ec1f"
 },
 "nbformat": 3,
 "nbformat_minor": 0,
 "worksheets": [
  {
   "cells": [
    {
     "cell_type": "code",
     "collapsed": false,
     "input": [
      "logfile = \"\"\"54.164.5.4 - - [12/Aug/2014:06:05:53 -0600] \"HEAD /julia-speed-vs-correctness/?utm_source=rss&utm_medium=rss&utm_campaign=julia-speed-vs-correctness&utm_medium=twitter&utm_source=twitterfeed HTTP/1.1\" 200 305 \"-\" \"Apache-HttpClient/4.3 (java 1.5)\" \"\"\""
     ],
     "language": "python",
     "metadata": {},
     "outputs": [
      {
       "metadata": {},
       "output_type": "pyout",
       "prompt_number": 1,
       "text": [
        "\"54.164.5.4 - - [12/Aug/2014:06:05:53 -0600] \\\"HEAD /julia-speed-vs-correctness/?utm_source=rss&utm_medium=rss&utm_campaign=julia-speed-vs-correctness&utm_medium=twitter&utm_source=twitterfeed HTTP/1.1\\\" 200 305 \\\"-\\\" \\\"Apache-HttpClient/4.3 (java 1.5)\\\" \""
       ]
      }
     ],
     "prompt_number": 1
    },
    {
     "cell_type": "code",
     "collapsed": false,
     "input": [
      "logregex = r\"\"\"([\\d\\.]+)\\s([\\w.-]+)\\s([\\w.-]+)\\s(\\[.+\\])\\s\"([^\"]*)\"\\s(\\d{3})\\s(\\d+|-)\\s\"((?:[^\"]|\\\u201d)+)\"\\s\"((?:[^\"]|\\\u201d)+)\"\\s\"\"\""
     ],
     "language": "python",
     "metadata": {},
     "outputs": [
      {
       "metadata": {},
       "output_type": "pyout",
       "prompt_number": 2,
       "text": [
        "r\"([\\d\\.]+)\\s([\\w.-]+)\\s([\\w.-]+)\\s(\\[.+\\])\\s\\\"([^\\\"]*)\\\"\\s(\\d{3})\\s(\\d+|-)\\s\\\"((?:[^\\\"]|\\\u201d)+)\\\"\\s\\\"((?:[^\\\"]|\\\u201d)+)\\\"\\s\""
       ]
      }
     ],
     "prompt_number": 2
    },
    {
     "cell_type": "code",
     "collapsed": false,
     "input": [
      "m = match(logregex, logfile)"
     ],
     "language": "python",
     "metadata": {},
     "outputs": [
      {
       "metadata": {},
       "output_type": "pyout",
       "prompt_number": 3,
       "text": [
        "RegexMatch(\"54.164.5.4 - - [12/Aug/2014:06:05:53 -0600] \\\"HEAD /julia-speed-vs-correctness/?utm_source=rss&utm_medium=rss&utm_campaign=julia-speed-vs-correctness&utm_medium=twitter&utm_source=twitterfeed HTTP/1.1\\\" 200 305 \\\"-\\\" \\\"Apache-HttpClient/4.3 (java 1.5)\\\" \", 1=\"54.164.5.4\", 2=\"-\", 3=\"-\", 4=\"[12/Aug/2014:06:05:53 -0600]\", 5=\"HEAD /julia-speed-vs-correctness/?utm_source=rss&utm_medium=rss&utm_campaign=julia-speed-vs-correctness&utm_medium=twitter&utm_source=twitterfeed HTTP/1.1\", 6=\"200\", 7=\"305\", 8=\"-\", 9=\"Apache-HttpClient/4.3 (java 1.5)\")"
       ]
      }
     ],
     "prompt_number": 3
    },
    {
     "cell_type": "code",
     "collapsed": false,
     "input": [
      "println(\"IP Address: \", m.captures[1])\n",
      "println(\"RFC 1413 Identity: \", m.captures[2])\n",
      "println(\"UserID from HTTP Authentication: \", m.captures[3])\n",
      "println(\"Request Time: \", m.captures[4])\n",
      "println(\"Requested Resource: \", m.captures[5])\n",
      "println(\"Status Code: \", m.captures[6])\n",
      "println(\"Byte Count: \", m.captures[7])\n",
      "println(\"Referrer: \", m.captures[8])\n",
      "println(\"User-Agent: \", m.captures[9])"
     ],
     "language": "python",
     "metadata": {},
     "outputs": [
      {
       "output_type": "stream",
       "stream": "stdout",
       "text": [
        "IP Address: 5"
       ]
      },
      {
       "output_type": "stream",
       "stream": "stdout",
       "text": [
        "4.164.5.4\n",
        "RFC 1413 Identity: -\n",
        "UserID from HTTP Authentication: -\n",
        "Request Time: [12/Aug/2014:06:05:53 -0600]\n",
        "Requested Resource: HEAD /julia-speed-vs-correctness/?utm_source=rss&utm_medium=rss&utm_campaign=julia-speed-vs-correctness&utm_medium=twitter&utm_source=twitterfeed HTTP/1.1\n",
        "Status Code: 200\n",
        "Byte Count: 305\n",
        "Referrer: -\n",
        "User-Agent: Apache-HttpClient/4.3 (java 1.5)\n"
       ]
      }
     ],
     "prompt_number": 4
    },
    {
     "cell_type": "heading",
     "level": 1,
     "metadata": {},
     "source": [
      "Build Package"
     ]
    },
    {
     "cell_type": "code",
     "collapsed": false,
     "input": [
      "Pkg.generate(\"LogParser\", \"MIT\")"
     ],
     "language": "python",
     "metadata": {},
     "outputs": [
      {
       "output_type": "stream",
       "stream": "stderr",
       "text": [
        "INFO: Initializing LogParser repo: /Users/randyzwitch/.julia/v0.4/LogParser\n"
       ]
      },
      {
       "output_type": "stream",
       "stream": "stderr",
       "text": [
        "INFO: Origin: git://github.com/randyzwitch/LogParser.jl.git\n"
       ]
      },
      {
       "output_type": "stream",
       "stream": "stderr",
       "text": [
        "INFO: Generating LICENSE.md\n"
       ]
      },
      {
       "output_type": "stream",
       "stream": "stderr",
       "text": [
        "INFO: Generating README.md\n",
        "INFO: Generating src/LogParser.jl\n",
        "INFO: Generating test/runtests.jl\n"
       ]
      },
      {
       "output_type": "stream",
       "stream": "stderr",
       "text": [
        "INFO: Generating .travis.yml\n",
        "INFO: Committing LogParser generated files\n"
       ]
      }
     ],
     "prompt_number": 6
    },
    {
     "cell_type": "code",
     "collapsed": false,
     "input": [
      "using LogParser"
     ],
     "language": "python",
     "metadata": {},
     "outputs": [],
     "prompt_number": 1
    },
    {
     "cell_type": "code",
     "collapsed": false,
     "input": [
      "logfile = \"\"\"54.164.5.4 - - [12/Aug/2014:06:05:53 -0600] \"HEAD /julia-speed-vs-correctness/?utm_source=rss&utm_medium=rss&utm_campaign=julia-speed-vs-correctness&utm_medium=twitter&utm_source=twitterfeed HTTP/1.1\" 200 305 \"-\" \"Apache-HttpClient/4.3 (java 1.5)\" \"\"\""
     ],
     "language": "python",
     "metadata": {},
     "outputs": [
      {
       "metadata": {},
       "output_type": "pyout",
       "prompt_number": 2,
       "text": [
        "\"54.164.5.4 - - [12/Aug/2014:06:05:53 -0600] \\\"HEAD /julia-speed-vs-correctness/?utm_source=rss&utm_medium=rss&utm_campaign=julia-speed-vs-correctness&utm_medium=twitter&utm_source=twitterfeed HTTP/1.1\\\" 200 305 \\\"-\\\" \\\"Apache-HttpClient/4.3 (java 1.5)\\\" \""
       ]
      }
     ],
     "prompt_number": 2
    },
    {
     "cell_type": "code",
     "collapsed": false,
     "input": [
      "m = apachecombined(logfile)"
     ],
     "language": "python",
     "metadata": {},
     "outputs": [
      {
       "metadata": {},
       "output_type": "pyout",
       "prompt_number": 27,
       "text": [
        "ApacheLog(\"54.164.5.4\",\"-\",\"-\",\"[12/Aug/2014:06:05:53 -0600]\",\"HEAD /julia-speed-vs-correctness/?utm_source=rss&utm_medium=rss&utm_campaign=julia-speed-vs-correctness&utm_medium=twitter&utm_source=twitterfeed HTTP/1.1\",\"200\",\"305\",\"-\",\"Apache-HttpClient/4.3 (java 1.5)\")"
       ]
      }
     ],
     "prompt_number": 27
    },
    {
     "cell_type": "code",
     "collapsed": false,
     "input": [
      "int(m.statuscode)"
     ],
     "language": "python",
     "metadata": {},
     "outputs": [
      {
       "metadata": {},
       "output_type": "pyout",
       "prompt_number": 34,
       "text": [
        "Int64"
       ]
      }
     ],
     "prompt_number": 34
    },
    {
     "cell_type": "code",
     "collapsed": false,
     "input": [
      "m = match(apachecombinedregex, logfile)"
     ],
     "language": "python",
     "metadata": {},
     "outputs": [
      {
       "metadata": {},
       "output_type": "pyout",
       "prompt_number": 23,
       "text": [
        "RegexMatch(\"54.164.5.4 - - [12/Aug/2014:06:05:53 -0600] \\\"HEAD /julia-speed-vs-correctness/?utm_source=rss&utm_medium=rss&utm_campaign=julia-speed-vs-correctness&utm_medium=twitter&utm_source=twitterfeed HTTP/1.1\\\" 200 305 \\\"-\\\" \\\"Apache-HttpClient/4.3 (java 1.5)\\\" \", 1=\"54.164.5.4\", 2=\"-\", 3=\"-\", 4=\"[12/Aug/2014:06:05:53 -0600]\", 5=\"HEAD /julia-speed-vs-correctness/?utm_source=rss&utm_medium=rss&utm_campaign=julia-speed-vs-correctness&utm_medium=twitter&utm_source=twitterfeed HTTP/1.1\", 6=\"200\", 7=\"305\", 8=\"-\", 9=\"Apache-HttpClient/4.3 (java 1.5)\")"
       ]
      }
     ],
     "prompt_number": 23
    },
    {
     "cell_type": "code",
     "collapsed": false,
     "input": [
      "m.captures"
     ],
     "language": "python",
     "metadata": {},
     "outputs": [
      {
       "metadata": {},
       "output_type": "pyout",
       "prompt_number": 26,
       "text": [
        "9-element Array{Union(Nothing,SubString{UTF8String}),1}:\n",
        " \"54.164.5.4\"                                                                                                                                                \n",
        " \"-\"                                                                                                                                                         \n",
        " \"-\"                                                                                                                                                         \n",
        " \"[12/Aug/2014:06:05:53 -0600]\"                                                                                                                              \n",
        " \"HEAD /julia-speed-vs-correctness/?utm_source=rss&utm_medium=rss&utm_campaign=julia-speed-vs-correctness&utm_medium=twitter&utm_source=twitterfeed HTTP/1.1\"\n",
        " \"200\"                                                                                                                                                       \n",
        " \"305\"                                                                                                                                                       \n",
        " \"-\"                                                                                                                                                         \n",
        " \"Apache-HttpClient/4.3 (java 1.5)\"                                                                                                                          "
       ]
      }
     ],
     "prompt_number": 26
    },
    {
     "cell_type": "code",
     "collapsed": false,
     "input": [],
     "language": "python",
     "metadata": {},
     "outputs": []
    }
   ],
   "metadata": {}
  }
 ]
}